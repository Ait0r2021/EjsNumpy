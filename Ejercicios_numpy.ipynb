{
  "cells": [
    {
      "cell_type": "markdown",
      "metadata": {
        "id": "view-in-github",
        "colab_type": "text"
      },
      "source": [
        "<a href=\"https://colab.research.google.com/github/Ait0r2021/EjsNumpy/blob/main/Ejercicios_numpy.ipynb\" target=\"_parent\"><img src=\"https://colab.research.google.com/assets/colab-badge.svg\" alt=\"Open In Colab\"/></a>"
      ]
    },
    {
      "cell_type": "markdown",
      "metadata": {
        "id": "DqZ_9nDpU23A"
      },
      "source": [
        "# EJERCICICOS NUMPY\n",
        "\n",
        "Aitor Trillo Díaz"
      ]
    },
    {
      "cell_type": "markdown",
      "metadata": {
        "id": "kys8DZC6U23D"
      },
      "source": [
        "Crea una clase en Python con la que sea cómodo trabajar con imágenes utilizando NumPy.\n",
        "\n",
        "Agrégale a la clase los métodos que consideres que puedan resultar útiles a la hora de operar con imágenes. Algunos métodos con los que debe contar la clase son:"
      ]
    },
    {
      "cell_type": "markdown",
      "metadata": {
        "id": "35ZIYxWoU23E"
      },
      "source": [
        "# a)\n",
        "Implementa un método al que se le pase el ancho y el alto de la imagen y el color de la\n",
        "misma. El método debe devolver la imagen creada."
      ]
    },
    {
      "cell_type": "code",
      "execution_count": null,
      "metadata": {
        "colab": {
          "base_uri": "https://localhost:8080/",
          "height": 217
        },
        "id": "0uPF57iPU23F",
        "outputId": "cdfb1629-7d66-442a-9987-c3e5319d0364"
      },
      "outputs": [
        {
          "output_type": "execute_result",
          "data": {
            "text/plain": [
              "<PIL.Image.Image image mode=RGB size=200x200 at 0x7F4586EF5B50>"
            ],
            "image/png": "[encoded data removed]"
          },
          "metadata": {},
          "execution_count": 15
        }
      ],
      "source": [
        "import numpy as np\n",
        "from PIL import Image\n",
        "\n",
        "class ActividadImagenes():\n",
        "    \n",
        "    def generarImagen(self, ancho, alto, color):\n",
        "        img = Image.new('RGB', (int(ancho), int(alto)))\n",
        "\n",
        "        for x in range(0, img.size[0]):\n",
        "            for y in range(0, img.size[1]):\n",
        "                img.putpixel((x, y), (int(color[0]), int(color[1]), int(color[2])))\n",
        "        return img\n",
        "\n",
        "\n",
        "imagen = ActividadImagenes()\n",
        "imagen.generarImagen(200, 200, (55, 0, 0))"
      ]
    },
    {
      "cell_type": "markdown",
      "metadata": {
        "id": "qVg9tZQ7U23G"
      },
      "source": [
        "# b) \n",
        "Implementa un método al que se le pasa el número de elementos horizontales y\n",
        "verticales, así como el ancho y el alto de los elementos horizontales y verticales y que\n",
        "devuelva la imagen creada con un color de fondo diferente para cada elemento."
      ]
    },
    {
      "cell_type": "code",
      "execution_count": null,
      "metadata": {
        "id": "Nyp8RUJyU23H"
      },
      "outputs": [],
      "source": [
        "from numpy.core.shape_base import hstack\n",
        "import numpy as np\n",
        "from PIL import Image\n",
        "from random import randint\n",
        "\n",
        "class ActividadImagenes():\n",
        "    \n",
        "    def generarImagen(self, ancho, alto, color):\n",
        "        img = Image.new('RGB', (int(ancho), int(alto)))\n",
        "\n",
        "        for x in range(0, img.size[0]):\n",
        "            for y in range(0, img.size[1]):\n",
        "                img.putpixel((x, y), (int(color[0]), int(color[1]), int(color[2])))\n",
        "        return img\n",
        "\n",
        "\n",
        "    contador = 0\n",
        "    def generarElementos(self, n_elem_ancho, n_elem_alto, ancho_elem, alto_elem):\n",
        "        elem_totales = n_elem_ancho * n_elem_alto\n",
        "        color = (randint(0, 255), randint(0, 255), randint(0, 255))\n",
        "        img = ActividadImagenes().generarImagen(ancho_elem, alto_elem, color)\n",
        "        contador = 0\n",
        "\n",
        "        for i in range(1, elem_totales):\n",
        "          color = (randint(0, 255), randint(0, 255), randint(0, 255))\n",
        "          img2 = ActividadImagenes().generarImagen(ancho_elem, alto_elem, color)\n",
        "          \n",
        "          if contador == n_elem_ancho:\n",
        "            img = np.vstack([img, img2])\n",
        "            img = Image.fromarray(img)\n",
        "            contador = 0\n",
        "          else:\n",
        "            img = np.hstack([img, img2])\n",
        "            img = Image.fromarray(img)\n",
        "            contador += 1\n",
        "          \n",
        "        return img\n",
        "\n",
        "\n",
        "\n",
        "\n",
        "\n",
        "\n",
        "\n",
        "\n",
        "\n",
        "\n",
        "\n",
        "\n",
        "\n",
        "\n",
        "imagen = ActividadImagenes()\n",
        "imagen.generarElementos(2, 2, 20, 20)"
      ]
    },
    {
      "cell_type": "markdown",
      "source": [
        "#c)\n",
        "\n",
        "Implementa un método que redimensiona una imagen al ancho y alto especificado, este método deforma la imagen si la relación de aspecto no es la misma."
      ],
      "metadata": {
        "id": "vNLSEgjeEpgv"
      }
    },
    {
      "cell_type": "code",
      "source": [
        "import numpy as np\n",
        "from PIL import Image\n",
        "\n",
        "class ActividadImagenes():\n",
        "    \n",
        "    def generarImagen(self, ancho, alto, color):\n",
        "        img = Image.new('RGB', (int(ancho), int(alto)))\n",
        "        for x in range(0, img.size[0]):\n",
        "            for y in range(0, img.size[1]):\n",
        "                img.putpixel((x, y), (int(color[0]), int(color[1]), int(color[2])))\n",
        "        return img\n",
        "    \n",
        "    def redimensionarImagen(self, imagen, ancho, alto):\n",
        "      imagen = imagen.resize((ancho, alto))\n",
        "      return imagen\n",
        "\n",
        "\n",
        "imagen = ActividadImagenes()\n",
        "img = imagen.generarImagen(50, 50, (255, 255, 150))\n",
        "img"
      ],
      "metadata": {
        "id": "aHh_bUHIG_Ix",
        "colab": {
          "base_uri": "https://localhost:8080/",
          "height": 67
        },
        "outputId": "76f0c655-1a9c-46a0-ac73-8f2635c0c880"
      },
      "execution_count": null,
      "outputs": [
        {
          "output_type": "execute_result",
          "data": {
            "text/plain": [
              "<PIL.Image.Image image mode=RGB size=50x50 at 0x7F0655D79390>"
            ],
            "image/png": "[encoded data removed]"
          },
          "metadata": {},
          "execution_count": 80
        }
      ]
    },
    {
      "cell_type": "code",
      "source": [
        "imagen.redimensionarImagen(img, 200, 200)"
      ],
      "metadata": {
        "id": "uDVNhAqtWZdY",
        "colab": {
          "base_uri": "https://localhost:8080/",
          "height": 217
        },
        "outputId": "23b2ad72-b11b-478f-87a0-a48173b0ae62"
      },
      "execution_count": null,
      "outputs": [
        {
          "output_type": "execute_result",
          "data": {
            "text/plain": [
              "<PIL.Image.Image image mode=RGB size=200x200 at 0x7F06560A10D0>"
            ],
            "image/png": "[encoded data removed]"
          },
          "metadata": {},
          "execution_count": 81
        }
      ]
    },
    {
      "cell_type": "markdown",
      "source": [
        "#d) \n",
        "\n",
        "Implementa un método que redimensiona una imagen al ancho especificado, sin deformar la imagen."
      ],
      "metadata": {
        "id": "8vDz075VE8N5"
      }
    },
    {
      "cell_type": "code",
      "source": [
        "import numpy as np\n",
        "from PIL import Image\n",
        "\n",
        "class ActividadImagenes():\n",
        "    def generarImagen(self, ancho, alto, color):\n",
        "        img = Image.new('RGB', (int(ancho), int(alto)))\n",
        "        for x in range(0, img.size[0]):\n",
        "            for y in range(0, img.size[1]):\n",
        "                img.putpixel((x, y), (int(color[0]), int(color[1]), int(color[2])))\n",
        "        return img\n",
        "    \n",
        "    def redimensionarImagen(self, imagen, ancho, alto):\n",
        "      imagen = imagen.resize((ancho, alto))\n",
        "      return imagen\n",
        "    \n",
        "    def reescalarAncho(self, imagen, ancho):\n",
        "       ancho_original = imagen.size[0]\n",
        "       alto_original = imagen.size[1]\n",
        "       alto_final = int((ancho * alto_original) / ancho_original)\n",
        "       imagen = imagen.resize((ancho, alto_final))\n",
        "       return imagen\n",
        "\n",
        "    def reescalarAlto(self, imagen, ancho):\n",
        "       ancho_original = imagen.size[0]\n",
        "       alto_original = imagen.size[1]\n",
        "       alto_final = int((ancho * alto_original) / ancho_original)\n",
        "       imagen = imagen.resize((ancho, alto_final))\n",
        "       return imagen\n",
        "\n",
        "\n",
        "imagen = ActividadImagenes()\n",
        "img = imagen.generarImagen(10, 50, (255, 255, 150))\n",
        "img"
      ],
      "metadata": {
        "colab": {
          "base_uri": "https://localhost:8080/",
          "height": 67
        },
        "id": "QdaT5Wp8zcfA",
        "outputId": "98cd5ac0-d636-4f1c-f73f-65a329715aaf"
      },
      "execution_count": null,
      "outputs": [
        {
          "output_type": "execute_result",
          "data": {
            "text/plain": [
              "<PIL.Image.Image image mode=RGB size=10x50 at 0x7F064DDE6650>"
            ],
            "image/png": "[encoded data removed]"
          },
          "metadata": {},
          "execution_count": 105
        }
      ]
    },
    {
      "cell_type": "code",
      "source": [
        "imagen.reescalarAncho(img, 100)"
      ],
      "metadata": {
        "colab": {
          "base_uri": "https://localhost:8080/",
          "height": 517
        },
        "id": "l7O-xfX9zssG",
        "outputId": "59366460-1590-49f7-f39a-1732a76f9254"
      },
      "execution_count": null,
      "outputs": [
        {
          "output_type": "execute_result",
          "data": {
            "text/plain": [
              "<PIL.Image.Image image mode=RGB size=100x500 at 0x7F0655D8D910>"
            ],
            "image/png": "[encoded data removed]"
          },
          "metadata": {},
          "execution_count": 107
        }
      ]
    },
    {
      "cell_type": "markdown",
      "source": [
        "#e) \n",
        "\n",
        "Implementa un método que redimensiona una imagen al alto especificado, sin deformar la imagen."
      ],
      "metadata": {
        "id": "SkNW0MG9E_A4"
      }
    },
    {
      "cell_type": "code",
      "source": [
        "import numpy as np\n",
        "from PIL import Image\n",
        "\n",
        "class ActividadImagenes():\n",
        "    def generarImagen(self, ancho, alto, color):\n",
        "        img = Image.new('RGB', (int(ancho), int(alto)))\n",
        "        for x in range(0, img.size[0]):\n",
        "            for y in range(0, img.size[1]):\n",
        "                img.putpixel((x, y), (int(color[0]), int(color[1]), int(color[2])))\n",
        "        return img\n",
        "    \n",
        "    def redimensionarImagen(self, imagen, ancho, alto):\n",
        "      imagen = imagen.resize((ancho, alto))\n",
        "      return imagen\n",
        "    \n",
        "    def reescalarAncho(self, imagen, ancho):\n",
        "       ancho_original = imagen.size[0]\n",
        "       alto_original = imagen.size[1]\n",
        "       alto_final = int((ancho * alto_original) / ancho_original)\n",
        "       imagen = imagen.resize((ancho, alto_final))\n",
        "       return imagen\n",
        "\n",
        "    def reescalarAlto(self, imagen, alto):\n",
        "       ancho_original = imagen.size[0]\n",
        "       alto_original = imagen.size[1]\n",
        "       ancho_final = int((alto * ancho_original) / alto_original)\n",
        "       imagen = imagen.resize((ancho_final, alto))\n",
        "       return imagen\n",
        "\n",
        "\n",
        "imagen = ActividadImagenes()\n",
        "img = imagen.generarImagen(10, 50, (255, 255, 150))\n",
        "img"
      ],
      "metadata": {
        "colab": {
          "base_uri": "https://localhost:8080/",
          "height": 67
        },
        "id": "Cl9tX5Ud22VJ",
        "outputId": "46b47b5a-32f8-4ca8-85c0-54faba85f197"
      },
      "execution_count": null,
      "outputs": [
        {
          "output_type": "execute_result",
          "data": {
            "text/plain": [
              "<PIL.Image.Image image mode=RGB size=10x50 at 0x7F064DDDA7D0>"
            ],
            "image/png": "[encoded data removed]"
          },
          "metadata": {},
          "execution_count": 110
        }
      ]
    },
    {
      "cell_type": "code",
      "source": [
        "imagen.reescalarAlto(img, 20)"
      ],
      "metadata": {
        "colab": {
          "base_uri": "https://localhost:8080/",
          "height": 37
        },
        "id": "czFUNTVr260O",
        "outputId": "e5c64871-974e-495e-cfbc-553b9ed21005"
      },
      "execution_count": null,
      "outputs": [
        {
          "output_type": "execute_result",
          "data": {
            "text/plain": [
              "<PIL.Image.Image image mode=RGB size=4x20 at 0x7F064DE21B50>"
            ],
            "image/png": "[encoded data removed]"
          },
          "metadata": {},
          "execution_count": 111
        }
      ]
    },
    {
      "cell_type": "markdown",
      "source": [
        "#f) \n",
        "\n",
        "Implementa un método que devuelva un trozo de una imagen especificando la posición horizontal y vertical y el ancho y el alto, si las dimensiones especificadas son superiores a la imagen original, debe devolver el recorte disponible."
      ],
      "metadata": {
        "id": "jHQVQCgKFHNn"
      }
    },
    {
      "cell_type": "markdown",
      "source": [
        "#g) \n",
        "\n",
        "Implementa un método que apile dos imágenes horizontal o verticalmente, sin deformarlas. El método debe especificar en sus argumentos qué dimensiones son las que se deben adaptar."
      ],
      "metadata": {
        "id": "wdq-E116FPFt"
      }
    },
    {
      "cell_type": "markdown",
      "source": [
        "#h) \n",
        "\n",
        "Implementa un método que apile dos imágenes horizontal o verticalmente, si las dimensiones de las imágenes no coinciden, debe adaptarlas a la imagen más ancha o más alta, deformándolas si fuera necesario."
      ],
      "metadata": {
        "id": "syEcYfjKFSH9"
      }
    },
    {
      "cell_type": "markdown",
      "source": [
        "#i) \n",
        "\n",
        "Implementa un método que inserte una imagen dentro de otra imagen en la posición horizontal y vertical especificada. Si la imagen que se va a insertar no cabe entera, debe recortarla."
      ],
      "metadata": {
        "id": "dotiNR-TFdEi"
      }
    },
    {
      "cell_type": "markdown",
      "source": [
        "#j) \n",
        "\n",
        "Implementa un método que inserte dentro de una imagen otra imagen en la posición horizontal y vertical especificada con el ancho y el alto especificado. Si la imagen que se va a insertar no cabe entera, debe recortarla."
      ],
      "metadata": {
        "id": "3isPfBu1FxRK"
      }
    }
  ],
  "metadata": {
    "kernelspec": {
      "display_name": "Python 3.11.0 64-bit",
      "language": "python",
      "name": "python3"
    },
    "language_info": {
      "codemirror_mode": {
        "name": "ipython",
        "version": 3
      },
      "file_extension": ".py",
      "mimetype": "text/x-python",
      "name": "python",
      "nbconvert_exporter": "python",
      "pygments_lexer": "ipython3",
      "version": "3.11.0"
    },
    "orig_nbformat": 4,
    "vscode": {
      "interpreter": {
        "hash": "aee8b7b246df8f9039afb4144a1f6fd8d2ca17a180786b69acc140d282b71a49"
      }
    },
    "colab": {
      "provenance": [],
      "collapsed_sections": [
        "35ZIYxWoU23E"
      ],
      "include_colab_link": true
    }
  },
  "nbformat": 4,
  "nbformat_minor": 0
}