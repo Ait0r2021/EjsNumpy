{
  "cells": [
    {
      "cell_type": "markdown",
      "metadata": {
        "id": "view-in-github",
        "colab_type": "text"
      },
      "source": [
        "<a href=\"https://colab.research.google.com/github/aitorTD/EjsNumpy/blob/main/Ejercicios_numpy.ipynb\" target=\"_parent\"><img src=\"https://colab.research.google.com/assets/colab-badge.svg\" alt=\"Open In Colab\"/></a>"
      ]
    },
    {
      "cell_type": "markdown",
      "metadata": {
        "id": "DqZ_9nDpU23A"
      },
      "source": [
        "# EJERCICICOS NUMPY\n",
        "\n",
        "Aitor Trillo Díaz"
      ]
    },
    {
      "cell_type": "markdown",
      "metadata": {
        "id": "kys8DZC6U23D"
      },
      "source": [
        "Crea una clase en Python con la que sea cómodo trabajar con imágenes utilizando NumPy.\n",
        "\n",
        "Agrégale a la clase los métodos que consideres que puedan resultar útiles a la hora de operar con imágenes. Algunos métodos con los que debe contar la clase son:"
      ]
    },
    {
      "cell_type": "code",
      "source": [
        "from numpy.core.shape_base import hstack\n",
        "import numpy as np\n",
        "from PIL import Image\n",
        "from random import randint\n",
        "\n",
        "class ActividadImagenes():\n",
        "    def generarImagen(self, ancho, alto, color):\n",
        "        img = Image.new('RGB', (int(ancho), int(alto)))\n",
        "        for x in range(0, img.size[0]):\n",
        "            for y in range(0, img.size[1]):\n",
        "                img.putpixel((x, y), (int(color[0]), int(color[1]), int(color[2])))\n",
        "        return img\n",
        "\n",
        "    def redimensionarImagen(self, imagen, ancho, alto):\n",
        "      imagen = imagen.resize((ancho, alto))\n",
        "      return imagen\n",
        "\n",
        "    def reescalarAncho(self, imagen, ancho):\n",
        "       ancho_original = imagen.size[0]\n",
        "       alto_original = imagen.size[1]\n",
        "       alto_final = int((ancho * alto_original) / ancho_original)\n",
        "       imagen = imagen.resize((ancho, alto_final))\n",
        "       return imagen\n",
        "\n",
        "    def reescalarAlto(self, imagen, ancho):\n",
        "       ancho_original = imagen.size[0]\n",
        "       alto_original = imagen.size[1]\n",
        "       alto_final = int((ancho * alto_original) / ancho_original)\n",
        "       imagen = imagen.resize((ancho, alto_final))\n",
        "       return imagen\n",
        "\n",
        "    def redimensionarImagen(self, imagen, ancho, alto):\n",
        "      imagen = imagen.resize((ancho, alto))\n",
        "      return imagen"
      ],
      "metadata": {
        "id": "Z_P70DNbbVEf"
      },
      "execution_count": 3,
      "outputs": []
    },
    {
      "cell_type": "markdown",
      "metadata": {
        "id": "35ZIYxWoU23E"
      },
      "source": [
        "# a)\n",
        "Implementa un método al que se le pase el ancho y el alto de la imagen y el color de la\n",
        "misma. El método debe devolver la imagen creada."
      ]
    },
    {
      "cell_type": "code",
      "execution_count": 5,
      "metadata": {
        "colab": {
          "base_uri": "https://localhost:8080/",
          "height": 217
        },
        "id": "0uPF57iPU23F",
        "outputId": "501d0a23-1bc6-454f-d38a-9466d08e8610"
      },
      "outputs": [
        {
          "output_type": "execute_result",
          "data": {
            "text/plain": [
              "<PIL.Image.Image image mode=RGB size=200x200 at 0x7FB11E8D3FD0>"
            ],
            "image/png": "[encoded data removed]"
          },
          "metadata": {},
          "execution_count": 5
        }
      ],
      "source": [
        "imagen = ActividadImagenes()\n",
        "imagen.generarImagen(200, 200, (55, 0, 0))"
      ]
    },
    {
      "cell_type": "markdown",
      "metadata": {
        "id": "qVg9tZQ7U23G"
      },
      "source": [
        "# b) \n",
        "Implementa un método al que se le pasa el número de elementos horizontales y\n",
        "verticales, así como el ancho y el alto de los elementos horizontales y verticales y que\n",
        "devuelva la imagen creada con un color de fondo diferente para cada elemento."
      ]
    },
    {
      "cell_type": "markdown",
      "source": [
        "#c)\n",
        "\n",
        "Implementa un método que redimensiona una imagen al ancho y alto especificado, este método deforma la imagen si la relación de aspecto no es la misma."
      ],
      "metadata": {
        "id": "vNLSEgjeEpgv"
      }
    },
    {
      "cell_type": "code",
      "source": [
        "imagen = ActividadImagenes()\n",
        "img = imagen.generarImagen(50, 50, (255, 255, 150))\n",
        "img"
      ],
      "metadata": {
        "id": "aHh_bUHIG_Ix",
        "colab": {
          "base_uri": "https://localhost:8080/",
          "height": 67
        },
        "outputId": "8923e65b-c4ca-49fa-ebe6-bfdf0cae5780"
      },
      "execution_count": 7,
      "outputs": [
        {
          "output_type": "execute_result",
          "data": {
            "text/plain": [
              "<PIL.Image.Image image mode=RGB size=50x50 at 0x7FB11E85FDD0>"
            ],
            "image/png": "[encoded data removed]"
          },
          "metadata": {},
          "execution_count": 7
        }
      ]
    },
    {
      "cell_type": "code",
      "source": [
        "imagen.redimensionarImagen(img, 200, 200)"
      ],
      "metadata": {
        "id": "uDVNhAqtWZdY",
        "colab": {
          "base_uri": "https://localhost:8080/",
          "height": 217
        },
        "outputId": "18c0b8e8-34b4-4f6a-e7af-12cc9fff3d69"
      },
      "execution_count": 9,
      "outputs": [
        {
          "output_type": "execute_result",
          "data": {
            "text/plain": [
              "<PIL.Image.Image image mode=RGB size=200x200 at 0x7FB11E8D3D10>"
            ],
            "image/png": "[encoded data removed]"
          },
          "metadata": {},
          "execution_count": 9
        }
      ]
    },
    {
      "cell_type": "markdown",
      "source": [
        "#d) \n",
        "\n",
        "Implementa un método que redimensiona una imagen al ancho especificado, sin deformar la imagen."
      ],
      "metadata": {
        "id": "8vDz075VE8N5"
      }
    },
    {
      "cell_type": "code",
      "source": [
        "imagen = ActividadImagenes()\n",
        "img = imagen.generarImagen(10, 50, (255, 255, 150))\n",
        "img"
      ],
      "metadata": {
        "colab": {
          "base_uri": "https://localhost:8080/",
          "height": 67
        },
        "id": "QdaT5Wp8zcfA",
        "outputId": "ec61c3ae-e888-4411-c107-38919f540c71"
      },
      "execution_count": 10,
      "outputs": [
        {
          "output_type": "execute_result",
          "data": {
            "text/plain": [
              "<PIL.Image.Image image mode=RGB size=10x50 at 0x7FB11E7DFA90>"
            ],
            "image/png": "[encoded data removed]"
          },
          "metadata": {},
          "execution_count": 10
        }
      ]
    },
    {
      "cell_type": "code",
      "source": [
        "imagen.reescalarAncho(img, 100)"
      ],
      "metadata": {
        "colab": {
          "base_uri": "https://localhost:8080/",
          "height": 517
        },
        "id": "l7O-xfX9zssG",
        "outputId": "a44b8a25-5cca-4497-a5be-618de43f70d7"
      },
      "execution_count": 11,
      "outputs": [
        {
          "output_type": "execute_result",
          "data": {
            "text/plain": [
              "<PIL.Image.Image image mode=RGB size=100x500 at 0x7FB11E7DFDD0>"
            ],
            "image/png": "[encoded data removed]"
          },
          "metadata": {},
          "execution_count": 11
        }
      ]
    },
    {
      "cell_type": "markdown",
      "source": [
        "#e) \n",
        "\n",
        "Implementa un método que redimensiona una imagen al alto especificado, sin deformar la imagen."
      ],
      "metadata": {
        "id": "SkNW0MG9E_A4"
      }
    },
    {
      "cell_type": "code",
      "source": [
        "img = imagen.generarImagen(10, 50, (255, 255, 150))\n",
        "img"
      ],
      "metadata": {
        "colab": {
          "base_uri": "https://localhost:8080/",
          "height": 67
        },
        "id": "Cl9tX5Ud22VJ",
        "outputId": "86ba9526-ea27-4268-834e-1b60f4148a58"
      },
      "execution_count": 16,
      "outputs": [
        {
          "output_type": "execute_result",
          "data": {
            "text/plain": [
              "<PIL.Image.Image image mode=RGB size=10x50 at 0x7FB11E7F49D0>"
            ],
            "image/png": "[encoded data removed]"
          },
          "metadata": {},
          "execution_count": 16
        }
      ]
    },
    {
      "cell_type": "code",
      "source": [
        "imagen.reescalarAlto(img, 20)"
      ],
      "metadata": {
        "colab": {
          "base_uri": "https://localhost:8080/",
          "height": 117
        },
        "id": "czFUNTVr260O",
        "outputId": "5d4499a4-a5e3-4de2-ce89-e6c1ea88bdb3"
      },
      "execution_count": 17,
      "outputs": [
        {
          "output_type": "execute_result",
          "data": {
            "text/plain": [
              "<PIL.Image.Image image mode=RGB size=20x100 at 0x7FB11E7EEF10>"
            ],
            "image/png": "[encoded data removed]"
          },
          "metadata": {},
          "execution_count": 17
        }
      ]
    },
    {
      "cell_type": "markdown",
      "source": [
        "#f) \n",
        "\n",
        "Implementa un método que devuelva un trozo de una imagen especificando la posición horizontal y vertical y el ancho y el alto, si las dimensiones especificadas son superiores a la imagen original, debe devolver el recorte disponible."
      ],
      "metadata": {
        "id": "jHQVQCgKFHNn"
      }
    },
    {
      "cell_type": "markdown",
      "source": [
        "#g) \n",
        "\n",
        "Implementa un método que apile dos imágenes horizontal o verticalmente, sin deformarlas. El método debe especificar en sus argumentos qué dimensiones son las que se deben adaptar."
      ],
      "metadata": {
        "id": "wdq-E116FPFt"
      }
    },
    {
      "cell_type": "markdown",
      "source": [
        "#h) \n",
        "\n",
        "Implementa un método que apile dos imágenes horizontal o verticalmente, si las dimensiones de las imágenes no coinciden, debe adaptarlas a la imagen más ancha o más alta, deformándolas si fuera necesario."
      ],
      "metadata": {
        "id": "syEcYfjKFSH9"
      }
    },
    {
      "cell_type": "markdown",
      "source": [
        "#i) \n",
        "\n",
        "Implementa un método que inserte una imagen dentro de otra imagen en la posición horizontal y vertical especificada. Si la imagen que se va a insertar no cabe entera, debe recortarla."
      ],
      "metadata": {
        "id": "dotiNR-TFdEi"
      }
    },
    {
      "cell_type": "markdown",
      "source": [
        "#j) \n",
        "\n",
        "Implementa un método que inserte dentro de una imagen otra imagen en la posición horizontal y vertical especificada con el ancho y el alto especificado. Si la imagen que se va a insertar no cabe entera, debe recortarla."
      ],
      "metadata": {
        "id": "3isPfBu1FxRK"
      }
    }
  ],
  "metadata": {
    "kernelspec": {
      "display_name": "Python 3.11.0 64-bit",
      "language": "python",
      "name": "python3"
    },
    "language_info": {
      "codemirror_mode": {
        "name": "ipython",
        "version": 3
      },
      "file_extension": ".py",
      "mimetype": "text/x-python",
      "name": "python",
      "nbconvert_exporter": "python",
      "pygments_lexer": "ipython3",
      "version": "3.11.0"
    },
    "orig_nbformat": 4,
    "vscode": {
      "interpreter": {
        "hash": "aee8b7b246df8f9039afb4144a1f6fd8d2ca17a180786b69acc140d282b71a49"
      }
    },
    "colab": {
      "provenance": [],
      "collapsed_sections": [
        "35ZIYxWoU23E"
      ],
      "include_colab_link": true
    }
  },
  "nbformat": 4,
  "nbformat_minor": 0
}